{
 "cells": [
  {
   "cell_type": "code",
   "execution_count": 1,
   "metadata": {},
   "outputs": [
    {
     "name": "stderr",
     "output_type": "stream",
     "text": [
      "<frozen importlib._bootstrap>:228: RuntimeWarning: scipy._lib.messagestream.MessageStream size changed, may indicate binary incompatibility. Expected 56 from C header, got 64 from PyObject\n"
     ]
    }
   ],
   "source": [
    "import pandas as pd\n",
    "import seaborn as sns\n",
    "import matplotlib.pyplot as plt\n",
    "from prophet import Prophet\n"
   ]
  },
  {
   "cell_type": "code",
   "execution_count": 2,
   "metadata": {},
   "outputs": [
    {
     "data": {
      "text/html": [
       "<div>\n",
       "<style scoped>\n",
       "    .dataframe tbody tr th:only-of-type {\n",
       "        vertical-align: middle;\n",
       "    }\n",
       "\n",
       "    .dataframe tbody tr th {\n",
       "        vertical-align: top;\n",
       "    }\n",
       "\n",
       "    .dataframe thead th {\n",
       "        text-align: right;\n",
       "    }\n",
       "</style>\n",
       "<table border=\"1\" class=\"dataframe\">\n",
       "  <thead>\n",
       "    <tr style=\"text-align: right;\">\n",
       "      <th></th>\n",
       "      <th>id</th>\n",
       "      <th>kode_provinsi</th>\n",
       "      <th>nama_provinsi</th>\n",
       "      <th>kode_kabupaten_kota</th>\n",
       "      <th>nama_kabupaten_kota</th>\n",
       "      <th>sektor_wisata</th>\n",
       "      <th>jumlah_pendapatan</th>\n",
       "      <th>satuan</th>\n",
       "      <th>tahun</th>\n",
       "    </tr>\n",
       "  </thead>\n",
       "  <tbody>\n",
       "    <tr>\n",
       "      <th>0</th>\n",
       "      <td>1</td>\n",
       "      <td>32</td>\n",
       "      <td>JAWA BARAT</td>\n",
       "      <td>3201</td>\n",
       "      <td>KABUPATEN BOGOR</td>\n",
       "      <td>HOTEL</td>\n",
       "      <td>0</td>\n",
       "      <td>RUPIAH</td>\n",
       "      <td>2014</td>\n",
       "    </tr>\n",
       "    <tr>\n",
       "      <th>1</th>\n",
       "      <td>2</td>\n",
       "      <td>32</td>\n",
       "      <td>JAWA BARAT</td>\n",
       "      <td>3201</td>\n",
       "      <td>KABUPATEN BOGOR</td>\n",
       "      <td>RESTORAN/RUMAH MAKAN</td>\n",
       "      <td>27946638075</td>\n",
       "      <td>RUPIAH</td>\n",
       "      <td>2014</td>\n",
       "    </tr>\n",
       "    <tr>\n",
       "      <th>2</th>\n",
       "      <td>3</td>\n",
       "      <td>32</td>\n",
       "      <td>JAWA BARAT</td>\n",
       "      <td>3201</td>\n",
       "      <td>KABUPATEN BOGOR</td>\n",
       "      <td>HIBURAN</td>\n",
       "      <td>7077430815</td>\n",
       "      <td>RUPIAH</td>\n",
       "      <td>2014</td>\n",
       "    </tr>\n",
       "    <tr>\n",
       "      <th>3</th>\n",
       "      <td>4</td>\n",
       "      <td>32</td>\n",
       "      <td>JAWA BARAT</td>\n",
       "      <td>3201</td>\n",
       "      <td>KABUPATEN BOGOR</td>\n",
       "      <td>RETRIBUSI</td>\n",
       "      <td>485255100</td>\n",
       "      <td>RUPIAH</td>\n",
       "      <td>2014</td>\n",
       "    </tr>\n",
       "    <tr>\n",
       "      <th>4</th>\n",
       "      <td>5</td>\n",
       "      <td>32</td>\n",
       "      <td>JAWA BARAT</td>\n",
       "      <td>3202</td>\n",
       "      <td>KABUPATEN SUKABUMI</td>\n",
       "      <td>HOTEL</td>\n",
       "      <td>0</td>\n",
       "      <td>RUPIAH</td>\n",
       "      <td>2014</td>\n",
       "    </tr>\n",
       "  </tbody>\n",
       "</table>\n",
       "</div>"
      ],
      "text/plain": [
       "   id  kode_provinsi nama_provinsi  kode_kabupaten_kota nama_kabupaten_kota  \\\n",
       "0   1             32    JAWA BARAT                 3201     KABUPATEN BOGOR   \n",
       "1   2             32    JAWA BARAT                 3201     KABUPATEN BOGOR   \n",
       "2   3             32    JAWA BARAT                 3201     KABUPATEN BOGOR   \n",
       "3   4             32    JAWA BARAT                 3201     KABUPATEN BOGOR   \n",
       "4   5             32    JAWA BARAT                 3202  KABUPATEN SUKABUMI   \n",
       "\n",
       "          sektor_wisata  jumlah_pendapatan  satuan  tahun  \n",
       "0                 HOTEL                  0  RUPIAH   2014  \n",
       "1  RESTORAN/RUMAH MAKAN        27946638075  RUPIAH   2014  \n",
       "2               HIBURAN         7077430815  RUPIAH   2014  \n",
       "3             RETRIBUSI          485255100  RUPIAH   2014  \n",
       "4                 HOTEL                  0  RUPIAH   2014  "
      ]
     },
     "execution_count": 2,
     "metadata": {},
     "output_type": "execute_result"
    }
   ],
   "source": [
    "data = pd.read_csv(\"../../data/od_15380_jml_pendapatan_asli_drh_bidang_pariwisata__sektor_wisa/data.jabarprov.go.id/disparbud-od_15380_jml_pendapatan_asli_drh_bidang_pariwisata__sektor_wisa_data.csv\")\n",
    "data.head(5)\n"
   ]
  },
  {
   "cell_type": "code",
   "execution_count": 14,
   "metadata": {},
   "outputs": [],
   "source": [
    "hotel_pendapatan = pd.DataFrame()\n",
    "hotel_pendapatan[\"tahun\"] = data[\"tahun\"].unique()\n",
    "hotel_pendapatan[\"jumlah_pendapatan\"] = data[data[\"sektor_wisata\"]\n",
    "                                                        == \"HOTEL\"].reset_index()[\"jumlah_pendapatan\"]\n",
    "hotel_pendapatan = hotel_pendapatan.reset_index().rename(\n",
    "    columns={\"tahun\": \"ds\", \"jumlah_pendapatan\": \"y\"}).drop(columns=\"index\")\n",
    "\n",
    "rm_pendapatan = pd.DataFrame()\n",
    "rm_pendapatan[\"tahun\"] = data[\"tahun\"].unique()\n",
    "rm_pendapatan[\"jumlah_pendapatan\"] = data[data[\"sektor_wisata\"]\n",
    "                                                        == \"RESTORAN/RUMAH MAKAN\"].reset_index()[\"jumlah_pendapatan\"]\n",
    "rm_pendapatan = rm_pendapatan.reset_index().rename(\n",
    "    columns={\"tahun\": \"ds\", \"jumlah_pendapatan\": \"y\"}).drop(columns=\"index\")\n",
    "\n",
    "hiburan_pendapatan = pd.DataFrame()\n",
    "hiburan_pendapatan[\"tahun\"] = data[\"tahun\"].unique()\n",
    "hiburan_pendapatan[\"jumlah_pendapatan\"] = data[data[\"sektor_wisata\"]\n",
    "                                                          == \"HIBURAN\"].reset_index()[\"jumlah_pendapatan\"]\n",
    "hiburan_pendapatan = hiburan_pendapatan.reset_index().rename(\n",
    "    columns={\"tahun\": \"ds\", \"jumlah_pendapatan\": \"y\"}).drop(columns=\"index\")"
   ]
  },
  {
   "cell_type": "code",
   "execution_count": 15,
   "metadata": {},
   "outputs": [
    {
     "name": "stderr",
     "output_type": "stream",
     "text": [
      "INFO:cmdstanpy:Chain [1] start processing\n",
      "INFO:cmdstanpy:Chain [1] done processing\n",
      "INFO:cmdstanpy:Chain [1] start processing\n",
      "INFO:cmdstanpy:Chain [1] done processing\n",
      "INFO:cmdstanpy:Chain [1] start processing\n",
      "INFO:cmdstanpy:Chain [1] done processing\n"
     ]
    },
    {
     "data": {
      "text/plain": [
       "<prophet.forecaster.Prophet at 0x2715ce691c0>"
      ]
     },
     "execution_count": 15,
     "metadata": {},
     "output_type": "execute_result"
    }
   ],
   "source": [
    "hiburan_model = Prophet(seasonality_mode=\"multiplicative\")\n",
    "hiburan_model.fit(hiburan_pendapatan)\n",
    "\n",
    "hotel_model = Prophet(seasonality_mode=\"multiplicative\")\n",
    "hotel_model.fit(hotel_pendapatan)\n",
    "\n",
    "rm_model = Prophet(seasonality_mode=\"multiplicative\")\n",
    "rm_model.fit(rm_pendapatan)"
   ]
  },
  {
   "cell_type": "code",
   "execution_count": 16,
   "metadata": {},
   "outputs": [],
   "source": [
    "hiburan_future = pd.DataFrame({\n",
    "    \"ds\": [max(hiburan_pendapatan[\"ds\"]) + i for i in range(1, 6)]\n",
    "})\n",
    "hiburan_future[\"y\"] = hiburan_model.predict(hiburan_future)[\"yhat\"]\n",
    "hiburan_gabung = pd.concat([hiburan_pendapatan, hiburan_future])\n",
    "hiburan_gabung = hiburan_gabung.rename(\n",
    "    columns={\"ds\": \"tahun\", \"y\": \"pendapatan\"})\n",
    "\n",
    "hotel_future = pd.DataFrame({\n",
    "    \"ds\": [max(hotel_pendapatan[\"ds\"]) + i for i in range(1, 6)]\n",
    "})\n",
    "hotel_future[\"y\"] = hotel_model.predict(hotel_future)[\"yhat\"]\n",
    "hotel_gabung = pd.concat([hotel_pendapatan, hotel_future])\n",
    "hotel_gabung = hotel_gabung.rename(columns={\"ds\": \"tahun\", \"y\": \"pendapatan\"})\n",
    "\n",
    "rm_future = pd.DataFrame({\n",
    "    \"ds\": [max(rm_pendapatan[\"ds\"]) + i for i in range(1, 6)]\n",
    "})\n",
    "rm_future[\"y\"] = rm_model.predict(rm_future)[\"yhat\"]\n",
    "rm_gabung = pd.concat([rm_pendapatan, rm_future])\n",
    "rm_gabung = rm_gabung.rename(columns={\"ds\": \"tahun\", \"y\": \"pendapatan\"})\n"
   ]
  },
  {
   "cell_type": "code",
   "execution_count": 18,
   "metadata": {},
   "outputs": [],
   "source": [
    "hiburan_gabung.to_csv(\"hiburan_gabung.csv\", index=False)\n",
    "hotel_gabung.to_csv(\"hotel_gabung.csv\", index=False)\n",
    "rm_gabung.to_csv(\"rm_gabung.csv\", index=False)"
   ]
  }
 ],
 "metadata": {
  "kernelspec": {
   "display_name": "Python 3.9.6 ('DataScience')",
   "language": "python",
   "name": "python3"
  },
  "language_info": {
   "codemirror_mode": {
    "name": "ipython",
    "version": 3
   },
   "file_extension": ".py",
   "mimetype": "text/x-python",
   "name": "python",
   "nbconvert_exporter": "python",
   "pygments_lexer": "ipython3",
   "version": "3.9.6"
  },
  "orig_nbformat": 4,
  "vscode": {
   "interpreter": {
    "hash": "d3120404ab40088dde46363bad1bdd78d1aeca7b6f18e79999fc72cb3d9151a5"
   }
  }
 },
 "nbformat": 4,
 "nbformat_minor": 2
}
