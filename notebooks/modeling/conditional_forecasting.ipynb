{
 "cells": [
  {
   "cell_type": "code",
   "execution_count": 124,
   "metadata": {},
   "outputs": [],
   "source": [
    "import pandas as pd\n",
    "import seaborn as sns\n",
    "from prophet import Prophet"
   ]
  },
  {
   "cell_type": "code",
   "execution_count": 107,
   "metadata": {},
   "outputs": [
    {
     "data": {
      "text/html": [
       "<div>\n",
       "<style scoped>\n",
       "    .dataframe tbody tr th:only-of-type {\n",
       "        vertical-align: middle;\n",
       "    }\n",
       "\n",
       "    .dataframe tbody tr th {\n",
       "        vertical-align: top;\n",
       "    }\n",
       "\n",
       "    .dataframe thead th {\n",
       "        text-align: right;\n",
       "    }\n",
       "</style>\n",
       "<table border=\"1\" class=\"dataframe\">\n",
       "  <thead>\n",
       "    <tr style=\"text-align: right;\">\n",
       "      <th></th>\n",
       "      <th>id</th>\n",
       "      <th>kode_provinsi</th>\n",
       "      <th>nama_provinsi</th>\n",
       "      <th>kode_kabupaten_kota</th>\n",
       "      <th>nama_kabupaten_kota</th>\n",
       "      <th>sektor_wisata</th>\n",
       "      <th>jumlah_pendapatan</th>\n",
       "      <th>satuan</th>\n",
       "      <th>tahun</th>\n",
       "    </tr>\n",
       "  </thead>\n",
       "  <tbody>\n",
       "    <tr>\n",
       "      <th>0</th>\n",
       "      <td>1</td>\n",
       "      <td>32</td>\n",
       "      <td>JAWA BARAT</td>\n",
       "      <td>3201</td>\n",
       "      <td>KABUPATEN BOGOR</td>\n",
       "      <td>HOTEL</td>\n",
       "      <td>0</td>\n",
       "      <td>RUPIAH</td>\n",
       "      <td>2014</td>\n",
       "    </tr>\n",
       "    <tr>\n",
       "      <th>1</th>\n",
       "      <td>2</td>\n",
       "      <td>32</td>\n",
       "      <td>JAWA BARAT</td>\n",
       "      <td>3201</td>\n",
       "      <td>KABUPATEN BOGOR</td>\n",
       "      <td>RESTORAN/RUMAH MAKAN</td>\n",
       "      <td>27946638075</td>\n",
       "      <td>RUPIAH</td>\n",
       "      <td>2014</td>\n",
       "    </tr>\n",
       "    <tr>\n",
       "      <th>2</th>\n",
       "      <td>3</td>\n",
       "      <td>32</td>\n",
       "      <td>JAWA BARAT</td>\n",
       "      <td>3201</td>\n",
       "      <td>KABUPATEN BOGOR</td>\n",
       "      <td>HIBURAN</td>\n",
       "      <td>7077430815</td>\n",
       "      <td>RUPIAH</td>\n",
       "      <td>2014</td>\n",
       "    </tr>\n",
       "    <tr>\n",
       "      <th>3</th>\n",
       "      <td>4</td>\n",
       "      <td>32</td>\n",
       "      <td>JAWA BARAT</td>\n",
       "      <td>3201</td>\n",
       "      <td>KABUPATEN BOGOR</td>\n",
       "      <td>RETRIBUSI</td>\n",
       "      <td>485255100</td>\n",
       "      <td>RUPIAH</td>\n",
       "      <td>2014</td>\n",
       "    </tr>\n",
       "    <tr>\n",
       "      <th>4</th>\n",
       "      <td>5</td>\n",
       "      <td>32</td>\n",
       "      <td>JAWA BARAT</td>\n",
       "      <td>3202</td>\n",
       "      <td>KABUPATEN SUKABUMI</td>\n",
       "      <td>HOTEL</td>\n",
       "      <td>0</td>\n",
       "      <td>RUPIAH</td>\n",
       "      <td>2014</td>\n",
       "    </tr>\n",
       "  </tbody>\n",
       "</table>\n",
       "</div>"
      ],
      "text/plain": [
       "   id  kode_provinsi nama_provinsi  kode_kabupaten_kota nama_kabupaten_kota  \\\n",
       "0   1             32    JAWA BARAT                 3201     KABUPATEN BOGOR   \n",
       "1   2             32    JAWA BARAT                 3201     KABUPATEN BOGOR   \n",
       "2   3             32    JAWA BARAT                 3201     KABUPATEN BOGOR   \n",
       "3   4             32    JAWA BARAT                 3201     KABUPATEN BOGOR   \n",
       "4   5             32    JAWA BARAT                 3202  KABUPATEN SUKABUMI   \n",
       "\n",
       "          sektor_wisata  jumlah_pendapatan  satuan  tahun  \n",
       "0                 HOTEL                  0  RUPIAH   2014  \n",
       "1  RESTORAN/RUMAH MAKAN        27946638075  RUPIAH   2014  \n",
       "2               HIBURAN         7077430815  RUPIAH   2014  \n",
       "3             RETRIBUSI          485255100  RUPIAH   2014  \n",
       "4                 HOTEL                  0  RUPIAH   2014  "
      ]
     },
     "execution_count": 107,
     "metadata": {},
     "output_type": "execute_result"
    }
   ],
   "source": [
    "data = pd.read_csv(\"../../data/od_15380_jml_pendapatan_asli_drh_bidang_pariwisata__sektor_wisa/data.jabarprov.go.id/disparbud-od_15380_jml_pendapatan_asli_drh_bidang_pariwisata__sektor_wisa_data.csv\")\n",
    "data.head(5)"
   ]
  },
  {
   "cell_type": "code",
   "execution_count": 137,
   "metadata": {},
   "outputs": [
    {
     "data": {
      "text/html": [
       "<div>\n",
       "<style scoped>\n",
       "    .dataframe tbody tr th:only-of-type {\n",
       "        vertical-align: middle;\n",
       "    }\n",
       "\n",
       "    .dataframe tbody tr th {\n",
       "        vertical-align: top;\n",
       "    }\n",
       "\n",
       "    .dataframe thead th {\n",
       "        text-align: right;\n",
       "    }\n",
       "</style>\n",
       "<table border=\"1\" class=\"dataframe\">\n",
       "  <thead>\n",
       "    <tr style=\"text-align: right;\">\n",
       "      <th></th>\n",
       "      <th>ds</th>\n",
       "      <th>y</th>\n",
       "    </tr>\n",
       "  </thead>\n",
       "  <tbody>\n",
       "    <tr>\n",
       "      <th>0</th>\n",
       "      <td>2014</td>\n",
       "      <td>2464074076</td>\n",
       "    </tr>\n",
       "    <tr>\n",
       "      <th>1</th>\n",
       "      <td>2015</td>\n",
       "      <td>2464074076</td>\n",
       "    </tr>\n",
       "    <tr>\n",
       "      <th>2</th>\n",
       "      <td>2016</td>\n",
       "      <td>2464074076</td>\n",
       "    </tr>\n",
       "    <tr>\n",
       "      <th>3</th>\n",
       "      <td>2017</td>\n",
       "      <td>2464074076</td>\n",
       "    </tr>\n",
       "    <tr>\n",
       "      <th>4</th>\n",
       "      <td>2018</td>\n",
       "      <td>0</td>\n",
       "    </tr>\n",
       "    <tr>\n",
       "      <th>5</th>\n",
       "      <td>2019</td>\n",
       "      <td>0</td>\n",
       "    </tr>\n",
       "    <tr>\n",
       "      <th>6</th>\n",
       "      <td>2020</td>\n",
       "      <td>8600000000</td>\n",
       "    </tr>\n",
       "  </tbody>\n",
       "</table>\n",
       "</div>"
      ],
      "text/plain": [
       "     ds           y\n",
       "0  2014  2464074076\n",
       "1  2015  2464074076\n",
       "2  2016  2464074076\n",
       "3  2017  2464074076\n",
       "4  2018           0\n",
       "5  2019           0\n",
       "6  2020  8600000000"
      ]
     },
     "execution_count": 137,
     "metadata": {},
     "output_type": "execute_result"
    }
   ],
   "source": [
    "KOTA = \"KOTA DEPOK\"\n",
    "data_specialize = data.copy()\n",
    "data_specialize = data_specialize[data_specialize[\"nama_kabupaten_kota\"] == KOTA]\n",
    "\n",
    "hotel_pendapatan = pd.DataFrame()\n",
    "hotel_pendapatan[\"tahun\"] = data_specialize[\"tahun\"].unique()\n",
    "hotel_pendapatan[\"jumlah_pendapatan\"] = data_specialize[data_specialize[\"sektor_wisata\"]\n",
    "                                                        == \"HOTEL\"].reset_index()[\"jumlah_pendapatan\"]\n",
    "hotel_pendapatan = hotel_pendapatan.reset_index().rename(\n",
    "    columns={\"tahun\": \"ds\", \"jumlah_pendapatan\": \"y\"}).drop(columns=\"index\")\n",
    "\n",
    "rm_pendapatan = pd.DataFrame()\n",
    "rm_pendapatan[\"tahun\"] = data_specialize[\"tahun\"].unique()\n",
    "rm_pendapatan[\"jumlah_pendapatan\"] = data_specialize[data_specialize[\"sektor_wisata\"]\n",
    "                                                        == \"RESTORAN/RUMAH MAKAN\"].reset_index()[\"jumlah_pendapatan\"]\n",
    "rm_pendapatan = rm_pendapatan.reset_index().rename(\n",
    "    columns={\"tahun\": \"ds\", \"jumlah_pendapatan\": \"y\"}).drop(columns=\"index\")\n",
    "\n",
    "hiburan_pendapatan = pd.DataFrame()\n",
    "hiburan_pendapatan[\"tahun\"] = data_specialize[\"tahun\"].unique()\n",
    "hiburan_pendapatan[\"jumlah_pendapatan\"] = data_specialize[data_specialize[\"sektor_wisata\"]\n",
    "                                                        == \"HIBURAN\"].reset_index()[\"jumlah_pendapatan\"]\n",
    "hiburan_pendapatan = hiburan_pendapatan.reset_index().rename(\n",
    "    columns={\"tahun\": \"ds\", \"jumlah_pendapatan\": \"y\"}).drop(columns=\"index\")\n",
    "\n",
    "hiburan_pendapatan\n"
   ]
  },
  {
   "cell_type": "code",
   "execution_count": 138,
   "metadata": {},
   "outputs": [
    {
     "name": "stderr",
     "output_type": "stream",
     "text": [
      "INFO:cmdstanpy:Chain [1] start processing\n",
      "INFO:cmdstanpy:Chain [1] done processing\n",
      "INFO:cmdstanpy:Chain [1] start processing\n",
      "INFO:cmdstanpy:Chain [1] done processing\n",
      "INFO:cmdstanpy:Chain [1] start processing\n",
      "INFO:cmdstanpy:Chain [1] done processing\n"
     ]
    },
    {
     "data": {
      "text/plain": [
       "<prophet.forecaster.Prophet at 0x26da9f11fd0>"
      ]
     },
     "execution_count": 138,
     "metadata": {},
     "output_type": "execute_result"
    }
   ],
   "source": [
    "hiburan_model = Prophet()\n",
    "hiburan_model.fit(hiburan_pendapatan)\n",
    "\n",
    "hotel_model = Prophet()\n",
    "hotel_model.fit(hotel_pendapatan)\n",
    "\n",
    "rm_model = Prophet()\n",
    "rm_model.fit(rm_pendapatan)"
   ]
  },
  {
   "cell_type": "code",
   "execution_count": 139,
   "metadata": {},
   "outputs": [],
   "source": [
    "hiburan_future = pd.DataFrame({\n",
    "    \"ds\": [max(hiburan_pendapatan[\"ds\"]) + i for i in range(1, 6)]\n",
    "})\n",
    "hiburan_future[\"y\"] = hiburan_model.predict(hiburan_future)[\"yhat\"]\n",
    "hiburan_gabung = pd.concat([hiburan_pendapatan, hiburan_future])\n",
    "hiburan_gabung = hiburan_gabung.rename(columns={\"ds\":\"tahun\", \"y\": \"pendapatan\"})\n",
    "\n",
    "hotel_future = pd.DataFrame({\n",
    "    \"ds\": [max(hotel_pendapatan[\"ds\"]) + i for i in range(1, 6)]\n",
    "})\n",
    "hotel_future[\"y\"] = hotel_model.predict(hotel_future)[\"yhat\"]\n",
    "hotel_gabung = pd.concat([hotel_pendapatan, hotel_future])\n",
    "hotel_gabung = hotel_gabung.rename(columns={\"ds\":\"tahun\", \"y\": \"pendapatan\"})\n",
    "\n",
    "rm_future = pd.DataFrame({\n",
    "    \"ds\": [max(rm_pendapatan[\"ds\"]) + i for i in range(1, 6)]\n",
    "})\n",
    "rm_future[\"y\"] = rm_model.predict(rm_future)[\"yhat\"]\n",
    "rm_gabung = pd.concat([rm_pendapatan, rm_future])\n",
    "rm_gabung = rm_gabung.rename(columns={\"ds\":\"tahun\", \"y\": \"pendapatan\"})"
   ]
  },
  {
   "cell_type": "code",
   "execution_count": 143,
   "metadata": {},
   "outputs": [
    {
     "data": {
      "text/plain": [
       "<AxesSubplot:xlabel='tahun'>"
      ]
     },
     "execution_count": 143,
     "metadata": {},
     "output_type": "execute_result"
    },
    {
     "data": {
      "image/png": "[encoded data removed]",
      "text/plain": [
       "<Figure size 432x288 with 1 Axes>"
      ]
     },
     "metadata": {
      "needs_background": "light"
     },
     "output_type": "display_data"
    },
    {
     "data": {
      "image/png": "[encoded data removed]",
      "text/plain": [
       "<Figure size 432x288 with 1 Axes>"
      ]
     },
     "metadata": {
      "needs_background": "light"
     },
     "output_type": "display_data"
    },
    {
     "data": {
      "image/png": "[encoded data removed]",
      "text/plain": [
       "<Figure size 432x288 with 1 Axes>"
      ]
     },
     "metadata": {
      "needs_background": "light"
     },
     "output_type": "display_data"
    }
   ],
   "source": [
    "hiburan_gabung.plot(x=\"tahun\", y=\"pendapatan\", kind=\"line\")\n",
    "hotel_gabung.plot(x=\"tahun\", y=\"pendapatan\", kind=\"line\")\n",
    "rm_gabung.plot(x=\"tahun\", y=\"pendapatan\", kind=\"line\")"
   ]
  },
  {
   "cell_type": "code",
   "execution_count": null,
   "metadata": {},
   "outputs": [],
   "source": [
    "def forecast_pendapatan(KOTA: str) -> tuple(pd.DataFrame, pd.DataFrame, pd.DataFrame):\n",
    "    data_specialize = data.copy()\n",
    "    data_specialize = data_specialize[data_specialize[\"nama_kabupaten_kota\"] == KOTA]\n",
    "\n",
    "    hotel_pendapatan = pd.DataFrame()\n",
    "    hotel_pendapatan[\"tahun\"] = data_specialize[\"tahun\"].unique()\n",
    "    hotel_pendapatan[\"jumlah_pendapatan\"] = data_specialize[data_specialize[\"sektor_wisata\"]\n",
    "                                                            == \"HOTEL\"].reset_index()[\"jumlah_pendapatan\"]\n",
    "    hotel_pendapatan = hotel_pendapatan.reset_index().rename(\n",
    "        columns={\"tahun\": \"ds\", \"jumlah_pendapatan\": \"y\"}).drop(columns=\"index\")\n",
    "\n",
    "    rm_pendapatan = pd.DataFrame()\n",
    "    rm_pendapatan[\"tahun\"] = data_specialize[\"tahun\"].unique()\n",
    "    rm_pendapatan[\"jumlah_pendapatan\"] = data_specialize[data_specialize[\"sektor_wisata\"]\n",
    "                                                            == \"RESTORAN/RUMAH MAKAN\"].reset_index()[\"jumlah_pendapatan\"]\n",
    "    rm_pendapatan = rm_pendapatan.reset_index().rename(\n",
    "        columns={\"tahun\": \"ds\", \"jumlah_pendapatan\": \"y\"}).drop(columns=\"index\")\n",
    "\n",
    "    hiburan_pendapatan = pd.DataFrame()\n",
    "    hiburan_pendapatan[\"tahun\"] = data_specialize[\"tahun\"].unique()\n",
    "    hiburan_pendapatan[\"jumlah_pendapatan\"] = data_specialize[data_specialize[\"sektor_wisata\"]\n",
    "                                                            == \"HIBURAN\"].reset_index()[\"jumlah_pendapatan\"]\n",
    "    hiburan_pendapatan = hiburan_pendapatan.reset_index().rename(\n",
    "        columns={\"tahun\": \"ds\", \"jumlah_pendapatan\": \"y\"}).drop(columns=\"index\")\n",
    "\n",
    "    # Training\n",
    "    hiburan_model = Prophet()\n",
    "    hiburan_model.fit(hiburan_pendapatan)\n",
    "\n",
    "    hotel_model = Prophet()\n",
    "    hotel_model.fit(hotel_pendapatan)\n",
    "\n",
    "    rm_model = Prophet()\n",
    "    rm_model.fit(rm_pendapatan)\n",
    "\n",
    "    # Forecasting\n",
    "    hiburan_future = pd.DataFrame({\n",
    "        \"ds\": [max(hiburan_pendapatan[\"ds\"]) + i for i in range(1, 6)]\n",
    "    })\n",
    "    hiburan_future[\"y\"] = hiburan_model.predict(hiburan_future)[\"yhat\"]\n",
    "    hiburan_gabung = pd.concat([hiburan_pendapatan, hiburan_future])\n",
    "    hiburan_gabung = hiburan_gabung.rename(\n",
    "        columns={\"ds\": \"tahun\", \"y\": \"pendapatan\"})\n",
    "\n",
    "    hotel_future = pd.DataFrame({\n",
    "        \"ds\": [max(hotel_pendapatan[\"ds\"]) + i for i in range(1, 6)]\n",
    "    })\n",
    "    hotel_future[\"y\"] = hotel_model.predict(hotel_future)[\"yhat\"]\n",
    "    hotel_gabung = pd.concat([hotel_pendapatan, hotel_future])\n",
    "    hotel_gabung = hotel_gabung.rename(columns={\"ds\": \"tahun\", \"y\": \"pendapatan\"})\n",
    "\n",
    "    rm_future = pd.DataFrame({\n",
    "        \"ds\": [max(rm_pendapatan[\"ds\"]) + i for i in range(1, 6)]\n",
    "    })\n",
    "    rm_future[\"y\"] = rm_model.predict(rm_future)[\"yhat\"]\n",
    "    rm_gabung = pd.concat([rm_pendapatan, rm_future])\n",
    "    rm_gabung = rm_gabung.rename(columns={\"ds\": \"tahun\", \"y\": \"pendapatan\"})\n",
    "\n",
    "    return hiburan_gabung, hotel_gabung, rm_gabung"
   ]
  }
 ],
 "metadata": {
  "kernelspec": {
   "display_name": "Python 3.9.6 ('DataScience')",
   "language": "python",
   "name": "python3"
  },
  "language_info": {
   "codemirror_mode": {
    "name": "ipython",
    "version": 3
   },
   "file_extension": ".py",
   "mimetype": "text/x-python",
   "name": "python",
   "nbconvert_exporter": "python",
   "pygments_lexer": "ipython3",
   "version": "3.9.6"
  },
  "orig_nbformat": 4,
  "vscode": {
   "interpreter": {
    "hash": "d3120404ab40088dde46363bad1bdd78d1aeca7b6f18e79999fc72cb3d9151a5"
   }
  }
 },
 "nbformat": 4,
 "nbformat_minor": 2
}
