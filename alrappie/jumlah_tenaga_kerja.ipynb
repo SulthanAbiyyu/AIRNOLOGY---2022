{
 "cells": [
  {
   "cell_type": "code",
   "execution_count": 1,
   "metadata": {},
   "outputs": [],
   "source": [
    "import pandas as pd"
   ]
  },
  {
   "cell_type": "code",
   "execution_count": 4,
   "metadata": {},
   "outputs": [],
   "source": [
    "od_15396_jumlah_seniman_berdasarkan_bidang_kesenian = pd.read_csv('Files/pariwisata/od_15396_jumlah_seniman_berdasarkan_bidang_kesenian/data.jabarprov.go.id/disparbud-od_15396_jumlah_seniman_berdasarkan_bidang_kesenian_data.csv')\n",
    "\n",
    "od_15408_jumlah_tenaga_kerja_restoran_berdasarkan_jenis_kelamin = pd.read_csv('Files/pariwisata/od_15408_jumlah_tenaga_kerja_restoran_berdasarkan_jenis_kelamin/data.jabarprov.go.id/disparbud-od_15408_jumlah_tenaga_kerja_restoran_berdasarkan_jenis_kelamin_data.csv')\n",
    "\n",
    "od_17131_jumlah_bar_berdasarkan_kabupatenkota = pd.read_csv('Files/pariwisata/od_17131_jumlah_bar_berdasarkan_kabupatenkota/data.jabarprov.go.id/disparbud-od_17131_jumlah_bar_berdasarkan_kabupatenkota_data.csv')\n",
    "\n",
    "od_17132_jumlah_tenaga_kerja_bar_berdasarkan_jenis_kelamin = pd.read_csv('Files/pariwisata/od_17132_jumlah_tenaga_kerja_bar_berdasarkan_jenis_kelamin/data.jabarprov.go.id/disparbud-od_17132_jumlah_tenaga_kerja_bar_berdasarkan_jenis_kelamin_data.csv')\n",
    "\n",
    "od_17133_jumlah_sarana_bar_berdasarkan_jenis_sarana = pd.read_csv('Files/pariwisata/od_17133_jumlah_sarana_bar_berdasarkan_jenis_sarana/data.jabarprov.go.id/disparbud-od_17133_jumlah_sarana_bar_berdasarkan_jenis_sarana_data.csv')"
   ]
  }
 ],
 "metadata": {
  "kernelspec": {
   "display_name": "Python 3.9.7 ('base')",
   "language": "python",
   "name": "python3"
  },
  "language_info": {
   "codemirror_mode": {
    "name": "ipython",
    "version": 3
   },
   "file_extension": ".py",
   "mimetype": "text/x-python",
   "name": "python",
   "nbconvert_exporter": "python",
   "pygments_lexer": "ipython3",
   "version": "3.9.7"
  },
  "orig_nbformat": 4,
  "vscode": {
   "interpreter": {
    "hash": "ab4cfb695e4995928d8d48b937410e7989a45ba361d6003efd8e9b7b9498f677"
   }
  }
 },
 "nbformat": 4,
 "nbformat_minor": 2
}
